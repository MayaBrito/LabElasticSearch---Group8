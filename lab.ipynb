{
 "cells": [
  {
   "cell_type": "markdown",
   "metadata": {},
   "source": [
    "# Laboratório Elastic Search"
   ]
  },
  {
   "cell_type": "markdown",
   "metadata": {},
   "source": [
    "# Atividade"
   ]
  },
  {
   "cell_type": "markdown",
   "metadata": {},
   "source": [
    "## Contexto\n",
    "O objetivo deste laboratório é explorar diferentes mecanismos de busca dentro e fora do Elastic Search!\n",
    "Para isto, iremos explorar uma base de verificações de notícia de uma agência de checagem, chamada [Lupa](https://lupa.uol.com.br/).\n",
    "O papel de uma agência de checagem é analisar uma notícia e verificar sua veracidade, gerar um veredito e retornar sua análise.\n",
    "\n",
    "Neste laboratório, iremos nos preocupar apenas com o texto da análise e em como recuperá-los através de diferentes estratégias de busca.\n",
    "\n",
    "## Tarefas\n",
    "### Tarefa 1\n",
    "- Cada uma das equipes receberá 2 queries fixas, chamadas de QF1 e QF2, e a tarefa do grupo será a criação de mais 2 queries, chamadas de QP1 e QP2. As queries devem seguir o formato de uma pergunta ou declaração textual e ela será usada na próxima tarefa para realizar buscas. As equipes podem se inspirar nas notícias fornecidas (presentes no csv da tarefa 2) para montá-las. Cada query deve ser composta por até 100 caracteres.\n",
    "- A equipe deve enviar suas QP1 e QP2 em um formulário que será disponibilizado no classroom e no discord.\n",
    "\n",
    "### Tarefa 2\n",
    "- Após a criação das QP1 e QP2, cada equipe possuirá 4 queries (QF1; QF2; QP1 e QP2).\n",
    "- Cada grupo irá realizar 4 tipos de busca. Uma busca léxica com BM25 (pelo ElasticSearch), uma busca semântica (pelo ElasticSearch), uma busca híbrida (manualmente utilizando as duas buscas anteriores) e uma estratégia de busca de sua preferência (neste lab ela será chamada de busca criativa), diferente das anteriores.\n",
    "- As buscas léxica e semântica já estão implementadas, os grupos devem gerar a implementação das buscas híbridas e da busca criativa.\n",
    "- A busca criativa será a busca usada para a competição!\n",
    "- Cada grupo durante a implementação de suas buscas deve testar diferentes pré-processamentos nos dados para verificar como os resultados podem melhorar. Alguns pré-processamentos já foram implementados, mas os grupos não precisam se limitar aos pré-processamentos apresentados. Vocês podem buscar na internet implementações de outros pré-processamentos, criar padrões regex, etc. Observe que os dados precisarão ser reindexados no ElasticSearch sempre que os pré-processamentos forem modificados (inseridos, removidos ou mudados de ordem)!\n",
    "- Enquanto vocês testam seus pré-processamentos e algoritmos de busca, ao analisar os resultados obtidos para uma determinada query, anotem o nível de relevância de cada documento lido em relação à query. Observe que esse procedimento pode ser realizado continuamente durante o processo de implementação, pois a relevância de um documento para uma query independe de implementação de buscadores. Essa anotação deve ser realizada (online) em uma planilha no google drive, que será fornecida pela organização do Lab. Caso mais de um integrante do grupo anote valores diferentes na planilha, não tem problemas. Nesse caso, iremos considerar a média dos valores.\n",
    "    - A planilha tem o seguinte formato:\n",
    "        - doc_id, query_id, relevance\n",
    "        - 120, QP1, 2\n",
    "        - 487, QP1, 1\n",
    "        - ...\n",
    "    - Cada busca deve possuir pelo menos 10 resultados anotados.\n",
    "    - Não modifique o código que realiza o carregamento dos dados para que o doc_id seja consistente com os demais grupos!\n",
    "    - A rotulação deve possui uma gradação em 3 níveis:\n",
    "        - 0: Não é Relevante\n",
    "        - 1: Pouco Relevante\n",
    "        - 2: Muito Relevante \n",
    "- A entrega desta tarefa será feita através de um formulário para entregar um .zip contendo todo o repositório e o código utilizado autocontido (com listagem das dependências utilizadas no requirements.txt se necessário) e suas buscas implementadas. Este código será reexecutado, então organize o código para que ele possa ser reexecutado em outra máquina.\n",
    "- Quando esgotar o prazo de envio da tarefa a planilha será bloqueada para modificações.\n",
    "- A partir deste momento, nenhum grupo poderá alterar suas buscas novamente, então tenham ciência que esta será sua implementação final que será usada para a competição.\n",
    "\n",
    "### Tarefa 3\n",
    "- O grupo receberá (pelo discord) 3 queries adicionais (QA1; QA2 e QA3).\n",
    "- A tarefa do grupo será a execução do MESMO CÓDIGO submetido na tarefa anterior com estas 3 queries e a anotação dos dados (a planilha de anotações será disponibilizada pelo discord).\n",
    "- Nesta etapa, o grupo NÃO PODE FAZER ALTERAÇÕES nos pré-processamentos definidos ou nas implementações de suas buscas.\n",
    "- Quando esgotar o prazo de envio da tarefa a planilha será bloqueada para modificações.\n",
    "- IMPORTANTE: O seu código entregue na tarefa 2 será reexecutado com estas 3 queries (assim como você fez) para garantir que os resultados batem com os seus. Os grupos que mudarem suas buscas ou pré-processamentos na tarefa 3 terão sua nota penalizada e serão desclassificados da competição.\n",
    "\n",
    "## Competição\n",
    "A competição será realizada através da comparação dos resultados das buscas criativas em uma base de documentos (corpus) utilizada pela organização do Lab.\n",
    "Para que você atinja um bom desempenho na competição, é importante se atentar ao seu processo de criação de queries e na qualidade da rotulação dos documentos, pois elas serão seus guias do quão boa sua busca está se saindo!\n",
    "\n",
    "Como métrica de avaliação, esta competição irá utilizar a média do NDCG calculado para cada query. \n",
    "\n",
    "## Ferramental\n",
    "Para executar este lab não é necessário uma máquina com GPU, mas a máquina deve ter capacidade de virtualização, além de possuir o Docker e o Python instalado.\n",
    "\n",
    "Será utilizado o ElasticSearch (e opcionalmente o Kibana) no ambiente docker.\n",
    "\n",
    "Para realizar o lab é recomendado o uso de Python 3.12, além de um venv ou ambiente conda.\n",
    "\n",
    "Você deve instalar as dependências do requirements.txt.\n",
    "\n",
    "## Detalhes\n",
    "Ao executar o docker compose, além de ser levantado o ElasticSearch, também é levantada uma interface visual chamada Kibana.\n",
    "\n",
    "O Kibana é um frontend para facilitar o acionamento de algumas operações do ElasticSearch e controle de configurações específicas, observar métricas etc. Ela pode ser utilizada para fins de debug. Para quem tiver curiosidade, acesse o URI: http://localhost:5601 após levantar o serviço com o docker compose.\n",
    "\n",
    "## Dúvidas\n",
    "Caso tenham dúvidas, é só entrar em contato pelo nosso servidor do Discord."
   ]
  },
  {
   "cell_type": "markdown",
   "metadata": {},
   "source": [
    "-----------------------\n",
    "# Código"
   ]
  },
  {
   "cell_type": "markdown",
   "metadata": {},
   "source": [
    "\n",
    "## Passos de preparação do ambiente"
   ]
  },
  {
   "cell_type": "markdown",
   "metadata": {},
   "source": [
    "### Imports"
   ]
  },
  {
   "cell_type": "code",
   "execution_count": 1,
   "metadata": {},
   "outputs": [
    {
     "name": "stderr",
     "output_type": "stream",
     "text": [
      "[nltk_data] Downloading package punkt_tab to\n",
      "[nltk_data]     /home/helenavm/nltk_data...\n",
      "[nltk_data]   Package punkt_tab is already up-to-date!\n",
      "[nltk_data] Downloading package stopwords to\n",
      "[nltk_data]     /home/helenavm/nltk_data...\n",
      "[nltk_data]   Package stopwords is already up-to-date!\n"
     ]
    }
   ],
   "source": [
    "import zipfile\n",
    "import requests\n",
    "import os\n",
    "import pandas as pd\n",
    "from datetime import datetime\n",
    "import re\n",
    "import warnings\n",
    "import subprocess\n",
    "warnings.filterwarnings(\"ignore\")\n",
    "from collections import OrderedDict\n",
    "\n",
    "from elasticsearch import Elasticsearch\n",
    "\n",
    "from sentence_transformers import SentenceTransformer\n",
    "\n",
    "import nltk\n",
    "from nltk import word_tokenize\n",
    "from nltk.stem import PorterStemmer\n",
    "import sklearn\n",
    "\n",
    "nltk.download('punkt_tab')\n",
    "nltk.download('stopwords')\n",
    "\n",
    "import spacy\n",
    "import unidecode"
   ]
  },
  {
   "cell_type": "markdown",
   "metadata": {},
   "source": [
    "### Passo 0: Subir Stack do Elastic (ElasticSearch e Kibana)"
   ]
  },
  {
   "cell_type": "code",
   "execution_count": 2,
   "metadata": {},
   "outputs": [
    {
     "name": "stdout",
     "output_type": "stream",
     "text": [
      "Collecting pt-core-news-sm==3.8.0\n",
      "  Downloading https://github.com/explosion/spacy-models/releases/download/pt_core_news_sm-3.8.0/pt_core_news_sm-3.8.0-py3-none-any.whl (13.0 MB)\n",
      "\u001b[2K     \u001b[90m━━━━━━━━━━━━━━━━━━━━━━━━━━━━━━━━━━━━━━━━\u001b[0m \u001b[32m13.0/13.0 MB\u001b[0m \u001b[31m10.4 MB/s\u001b[0m eta \u001b[36m0:00:00\u001b[0m00:01\u001b[0m00:01\u001b[0m\n",
      "\u001b[?25h\u001b[38;5;2m✔ Download and installation successful\u001b[0m\n",
      "You can now load the package via spacy.load('pt_core_news_sm')\n"
     ]
    }
   ],
   "source": [
    "!python -m spacy download pt_core_news_sm # Caso o comando não funcione, execute-o no terminal"
   ]
  },
  {
   "cell_type": "code",
   "execution_count": 3,
   "metadata": {},
   "outputs": [
    {
     "name": "stderr",
     "output_type": "stream",
     "text": [
      "time=\"2025-03-25T18:45:52-03:00\" level=warning msg=\"/home/helenavm/source/LabElasticSearch---Group8/docker-compose.yaml: `version` is obsolete\"\n",
      " Container labelasticsearch---group8-setup-1  Created\n",
      " Container labelasticsearch---group8-es01-1  Running\n",
      " Container labelasticsearch---group8-kibana-1  Running\n",
      " Container labelasticsearch---group8-setup-1  Starting\n",
      " Container labelasticsearch---group8-setup-1  Started\n",
      " Container labelasticsearch---group8-setup-1  Waiting\n",
      " Container labelasticsearch---group8-setup-1  Healthy\n",
      " Container labelasticsearch---group8-es01-1  Waiting\n",
      " Container labelasticsearch---group8-es01-1  Healthy\n"
     ]
    },
    {
     "data": {
      "text/plain": [
       "0"
      ]
     },
     "execution_count": 3,
     "metadata": {},
     "output_type": "execute_result"
    }
   ],
   "source": [
    "subprocess.call([\"docker\", \"compose\", \"up\", \"-d\"])\n",
    "# Se esse comando falhar ou retornar 1, execute-o diretamente no terminal para identificar o erro.\n",
    "# PS: O docker deve estar instalado e rodando"
   ]
  },
  {
   "cell_type": "markdown",
   "metadata": {},
   "source": [
    "### Passo 1: Baixar dados do Lupa"
   ]
  },
  {
   "cell_type": "code",
   "execution_count": 4,
   "metadata": {},
   "outputs": [],
   "source": [
    "# Base de dados de notícias da Lupa\n",
    "url = \"https://docs.google.com/uc?export=download&confirm=t&id=1W067Md2EbvVzW1ufzFg17Hf7Y9cCZxxr\"\n",
    "filename = \"articles_lupa_lab_elasticsearch.zip\"\n",
    "data_path = \"data\"\n",
    "zip_file_path = f\"{data_path}/{filename}\"\n",
    "\n",
    "os.makedirs(data_path, exist_ok=True)\n",
    "\n",
    "# Baixa o zip\n",
    "with open(zip_file_path, \"wb\") as f:\n",
    "    f.write(requests.get(url, allow_redirects=True).content)\n",
    "\n",
    "# Extrai o csv do zip\n",
    "with zipfile.ZipFile(zip_file_path, 'r') as zip_ref:\n",
    "    zip_ref.extractall(data_path)\n",
    "    \n",
    "output_file = f\"{data_path}/articles_lupa.csv\"\n",
    "assert os.path.exists(output_file)"
   ]
  },
  {
   "cell_type": "markdown",
   "metadata": {},
   "source": [
    "### Passo 2: Pré-processar os dados e gerar embeddings"
   ]
  },
  {
   "cell_type": "code",
   "execution_count": 5,
   "metadata": {},
   "outputs": [],
   "source": [
    "from sklearn.feature_extraction.text import TfidfVectorizer\n",
    "\n"
   ]
  },
  {
   "cell_type": "code",
   "execution_count": 48,
   "metadata": {},
   "outputs": [],
   "source": [
    "# Implementações de pré-processamentos de texto. Modifiquem, adicionem, removam conforme necessário.\n",
    "class Preprocessors:\n",
    "    STOPWORDS = set(nltk.corpus.stopwords.words('portuguese'))\n",
    "    \n",
    "    def __init__(self, customSW=None):\n",
    "        self.stemmer = PorterStemmer()\n",
    "        self.spacy_nlp = spacy.load(\"pt_core_news_sm\") # Utiliza para lematização\n",
    "        self.custom_stop_words = customSW\n",
    "        \n",
    "    # Remove stopwords do português\n",
    "    def remove_stopwords(self, text):\n",
    "        # Tokeniza as palavras\n",
    "        tokens = word_tokenize(text)\n",
    "\n",
    "        sw = self.STOPWORDS\n",
    "        if not (self.custom_stop_words is None):\n",
    "            sw = self.custom_stop_words\n",
    "        # Remove as stop words\n",
    "        tokens = [word for word in tokens if word not in sw]\n",
    "\n",
    "        return ' '.join(tokens)\n",
    "    \n",
    "    # Realiza a lematização\n",
    "    def lemma(self, text):\n",
    "        return \" \".join([token.lemma_ for token in self.spacy_nlp(text)])\n",
    "    \n",
    "    # Realiza a stemização\n",
    "    def porter_stemmer(self, text):\n",
    "        # Tokeniza as palavras\n",
    "        tokens = word_tokenize(text)\n",
    "\n",
    "        for index in range(len(tokens)):\n",
    "            # Realiza a stemização\n",
    "            stem_word = self.stemmer.stem(tokens[index])\n",
    "            tokens[index] = stem_word\n",
    "\n",
    "        return ' '.join(tokens)\n",
    "\n",
    "    # Transforma o texto em lower case\n",
    "    def lower_case(self, str):\n",
    "        return str.lower()\n",
    "\n",
    "    # Remove urls com regex\n",
    "    def remove_urls(self, text):\n",
    "        url_pattern = r'https?://\\S+|www\\.\\S+'\n",
    "        without_urls = re.sub(pattern=url_pattern, repl=' ', string=text)\n",
    "        return without_urls\n",
    "\n",
    "    # Remove números com regex\n",
    "    def remove_numbers(self, text):\n",
    "        number_pattern = r'\\b(?!\\d{4}\\b|\\b[12]?\\d{1,2}\\b|\\b[1-2]?\\d{3}\\b)\\d+\\b'\n",
    "        without_number = re.sub(pattern=number_pattern,\n",
    "    repl=\" \", string=text)\n",
    "        return without_number\n",
    "\n",
    "    # Converte caracteres acentuados para sua versão ASCII\n",
    "    def accented_to_ascii(self, text):\n",
    "        text = unidecode.unidecode(text)\n",
    "        return text\n",
    "\n",
    "    # Remove símbolos com regex\n",
    "    def remove_symbols(self, text):\n",
    "        symbols_pattern = r'[^\\w\\s]'\n",
    "        without_symbols = re.sub(symbols_pattern, repl='', string=text)\n",
    "        return without_symbols"
   ]
  },
  {
   "cell_type": "code",
   "execution_count": 46,
   "metadata": {},
   "outputs": [],
   "source": [
    "def get_custom_stop_words(words, limiar_percent=0.1):\n",
    "    preprocessor = Preprocessors()\n",
    "    stop_words_preprocessing_steps = [\n",
    "        preprocessor.lower_case,\n",
    "        preprocessor.remove_urls,\n",
    "        preprocessor.accented_to_ascii,\n",
    "        preprocessor.remove_numbers,\n",
    "        preprocessor.remove_symbols\n",
    "    ]\n",
    "\n",
    "    for preprocess in stop_words_preprocessing_steps:\n",
    "        words = preprocess(words)\n",
    "    \n",
    "    tf = {}\n",
    "    for word in words.split(' '):\n",
    "        if tf.get(word):\n",
    "            tf[word] += 1\n",
    "        else:\n",
    "            tf[word] = 1\n",
    "\n",
    "    words = sorted(tf.items(), key=lambda item: item[1], reverse=True)\n",
    "\n",
    "    limiar = len(words) * limiar_percent / 100\n",
    "\n",
    "    return [x for x, _ in words[:int(limiar)]]"
   ]
  },
  {
   "cell_type": "code",
   "execution_count": null,
   "metadata": {},
   "outputs": [
    {
     "name": "stdout",
     "output_type": "stream",
     "text": [
      "74\n"
     ]
    }
   ],
   "source": [
    "# Carregar o modelo gerador de embeddings\n",
    "model = SentenceTransformer('sentence-transformers/paraphrase-multilingual-MiniLM-L12-v2')\n",
    "\n",
    "# Caminho para salvar o dataframe de notícias\n",
    "data_df_path = \"data/data_df.pkl\"\n",
    "\n",
    "# Selecione diferentes pré-processamentos\n",
    "# Exemplo:\n",
    "\"\"\"\n",
    "preprocessor = Preprocessors()\n",
    "preprocessing_steps = [\n",
    "    preprocessor.remove_urls,\n",
    "    preprocessor.remove_stopwords,\n",
    "]\n",
    "\"\"\"\n",
    "\n",
    "RECREATE_DF = True\n",
    "\n",
    "# Cria o data frame se ele já existir ou se a variável RECREATE_INDEX for verdadeira\n",
    "# Ou (exclusivo) carrega o dataframe salvo\n",
    "if not os.path.exists(data_df_path) or RECREATE_DF:    \n",
    "    df = pd.read_csv(output_file, sep=\";\")[[\"Título\", \"Texto\", \"Data de Publicação\"]]\n",
    "\n",
    "    all_words = ' '.join(df[\"Texto\"].dropna().astype(str).str.split().explode())\n",
    "    custom_stop_words = get_custom_stop_words(all_words)\n",
    "\n",
    "    preprocessor = Preprocessors(custom_stop_words)\n",
    "    preprocessing_steps = [\n",
    "        preprocessor.lower_case,\n",
    "        preprocessor.remove_urls,\n",
    "        preprocessor.accented_to_ascii,\n",
    "        preprocessor.remove_numbers,\n",
    "        preprocessor.remove_stopwords,\n",
    "        preprocessor.lemma\n",
    "    ]\n",
    "\n",
    "\n",
    "    df[\"Data de Publicação\"] = df[\"Data de Publicação\"].apply(lambda str_date: datetime.strptime(str_date.split(\" - \")[0], \"%d.%m.%Y\"))\n",
    "    df.sort_values(\"Data de Publicação\", inplace=True, ascending=False)\n",
    "    df[\"Embeddings\"] = [None] * len(df)\n",
    "    df[\"doc_id\"] = df.reset_index(drop=True).index\n",
    "\n",
    "    for i, row in df.iterrows():\n",
    "        texto_completo = row[\"Texto\"].strip() + \"\\n\" + row[\"Título\"].strip()\n",
    "        \n",
    "        df.at[i, \"Texto completo\"] = texto_completo\n",
    "        texto_processado = texto_completo\n",
    "        for preprocessing_step in preprocessing_steps:\n",
    "            texto_processado = preprocessing_step(texto_processado)\n",
    "        \n",
    "        df.at[i, \"Texto processado\"] = texto_processado\n",
    "        embeddings = model.encode(texto_completo).tolist()\n",
    "        df.at[i, \"Embeddings\"] = embeddings\n",
    "        \n",
    "    print(\"Geração de embeddings finalizada.\")\n",
    "    \n",
    "    with open(data_df_path, \"wb\") as f:\n",
    "        df.to_pickle(f) \n",
    "else:\n",
    "    with open(data_df_path, \"rb\") as f:\n",
    "        df = pd.read_pickle(f)\n",
    "    print(\"Dataframe carregado de arquivo.\")"
   ]
  },
  {
   "cell_type": "markdown",
   "metadata": {},
   "source": [
    "### Passo 3: Indexar dados no ElasticSearch (Lembrem-se de reindexar os dados se os pré-processamentos mudarem)"
   ]
  },
  {
   "cell_type": "code",
   "execution_count": 68,
   "metadata": {},
   "outputs": [],
   "source": [
    "es = Elasticsearch(\n",
    "    hosts = [{'host': \"localhost\", 'port': 9200, \"scheme\": \"https\"}],\n",
    "    basic_auth=(\"elastic\",\"elastic\"),\n",
    "    verify_certs = False,\n",
    ")"
   ]
  },
  {
   "cell_type": "code",
   "execution_count": 69,
   "metadata": {},
   "outputs": [
    {
     "name": "stdout",
     "output_type": "stream",
     "text": [
      "Índice 'verificacoes_lupa' deletado.\n",
      "Índice 'verificacoes_lupa' criado.\n",
      "Índice preenchido.\n",
      "Indexação finalizada.\n"
     ]
    }
   ],
   "source": [
    "RECREATE_INDEX = True\n",
    "\n",
    "index_name = \"verificacoes_lupa\"\n",
    "\n",
    "# Se a flag for True e se o índice existir, ele é deletado\n",
    "if RECREATE_INDEX and es.indices.exists(index=index_name):\n",
    "    es.indices.delete(index=index_name)\n",
    "    print(f\"Índice '{index_name}' deletado.\")\n",
    "\n",
    "# Cria o índice e popula com os dados\n",
    "if not es.indices.exists(index=index_name):\n",
    "    es.indices.create(index=index_name, mappings={\n",
    "        \"properties\": {\n",
    "            \"doc_id\": {\"type\": \"integer\"},\n",
    "            \"full_text\": {\"type\": \"text\"},\n",
    "            \"processed_text\": {\"type\": \"text\"},\n",
    "            \"embeddings\": {\"type\": \"dense_vector\", \"dims\": 384}\n",
    "        }\n",
    "    })\n",
    "    print(f\"Índice '{index_name}' criado.\")\n",
    "    \n",
    "    for i, row in df.iterrows():\n",
    "        es.index(index=index_name, id=row[\"doc_id\"], body={\n",
    "            \"doc_id\": row[\"doc_id\"],\n",
    "            \"full_text\": row[\"Texto completo\"],\n",
    "            \"processed_text\": row[\"Texto processado\"],\n",
    "            \"embeddings\": row[\"Embeddings\"]\n",
    "        })\n",
    "    print(\"Índice preenchido.\")\n",
    "\n",
    "print(\"Indexação finalizada.\")"
   ]
  },
  {
   "cell_type": "markdown",
   "metadata": {},
   "source": [
    "## Tarefas"
   ]
  },
  {
   "cell_type": "markdown",
   "metadata": {},
   "source": [
    "### Tarefa 1: Criar query\n",
    "Crie as queries da tarefa 1 (QP1 e QP2), as queries devem ser perguntas ou declarações de até 100 caracteres.\n",
    "\n",
    "Inspire-se nas notícias presente no csv (data/articles_lupa.csv) para gerar queries interessantes.\n",
    "\n",
    "Submetam as queries ao formulário."
   ]
  },
  {
   "cell_type": "markdown",
   "metadata": {},
   "source": [
    "### Tarefa 2: Implementação e realização das buscas\n",
    "Agora que você montou suas queries, realize cada uma das buscas para cada uma das queries (QF1; QF2; QP1 e QP2)."
   ]
  },
  {
   "cell_type": "code",
   "execution_count": 70,
   "metadata": {},
   "outputs": [
    {
     "name": "stdout",
     "output_type": "stream",
     "text": [
      "Haverá cobrança na transferência bancária digital a partir de agora\n",
      "haverá cobrança na transferência bancária digital a partir de agora\n",
      "haverá cobrança na transferência bancária digital a partir de agora\n",
      "havera cobranca na transferencia bancaria digital a partir de agora\n",
      "havera cobranca na transferencia bancaria digital a partir de agora\n",
      "havera cobranca transferencia bancaria digital partir agora\n",
      "haverar cobranca transferencia bancario digital partir agora\n",
      "As vacinas da covid19 causaram mortes\n",
      "as vacinas da covid19 causaram mortes\n",
      "as vacinas da covid19 causaram mortes\n",
      "as vacinas da covid19 causaram mortes\n",
      "as vacinas da covid19 causaram mortes\n",
      "vacinas covid19 causaram mortes\n",
      "vacina covid19 causar morte\n",
      "Como se proteger de novos golpes online\n",
      "como se proteger de novos golpes online\n",
      "como se proteger de novos golpes online\n",
      "como se proteger de novos golpes online\n",
      "como se proteger de novos golpes online\n",
      "proteger novos golpes online\n",
      "proteger novo golpe onliner\n",
      "Existem leis anti discriminação e violência política no Brasil?\n",
      "existem leis anti discriminação e violência política no brasil?\n",
      "existem leis anti discriminação e violência política no brasil?\n",
      "existem leis anti discriminacao e violencia politica no brasil?\n",
      "existem leis anti discriminacao e violencia politica no brasil?\n",
      "existem leis anti discriminacao violencia politica brasil ?\n",
      "existir lei antir discriminacao violencia politico brasil ?\n"
     ]
    }
   ],
   "source": [
    "# Estas serão as queries QF1 e QF2\n",
    "with open(\"data/queries_fixadas.txt\", \"r\") as f:\n",
    "    queries_fixadas = [line.strip() for line in f.readlines()]\n",
    "    assert len(queries_fixadas) == 2\n",
    "    QF1 = queries_fixadas[0]\n",
    "    QF2 = queries_fixadas[1]\n",
    "    \n",
    "# Preencha aqui as queries do grupo\n",
    "QP1 = \"Como se proteger de novos golpes online\"\n",
    "QP2 = \"Existem leis anti discriminação e violência política no Brasil?\"\n",
    "\n",
    "queries = OrderedDict()\n",
    "queries[\"QF1\"] = QF1\n",
    "queries[\"QF2\"] = QF2\n",
    "queries[\"QP1\"] = QP1\n",
    "queries[\"QP2\"] = QP2\n",
    "\n",
    "for q in [\"Haverá cobrança na transferência bancária digital a partir de agora\",\"As vacinas da covid19 causaram mortes\",\"Como se proteger de novos golpes online\", \"Existem leis anti discriminação e violência política no Brasil?\"]:\n",
    "    print(q)   \n",
    "    for preprocessing_step in preprocessing_steps:\n",
    "        q = preprocessing_step(q)\n",
    "        print(q)"
   ]
  },
  {
   "cell_type": "markdown",
   "metadata": {},
   "source": [
    "#### Busca Léxica"
   ]
  },
  {
   "cell_type": "code",
   "execution_count": 71,
   "metadata": {},
   "outputs": [],
   "source": [
    "# Implementação de busca esparsa (léxica) com BM25\n",
    "def lexical_search(queries: dict[str, str]):\n",
    "    lexical_results = {}\n",
    "    for query_id, query in queries.items():\n",
    "        \n",
    "        # Pré-processa os dados\n",
    "        for preprocessing_step in preprocessing_steps:\n",
    "            query = preprocessing_step(query)\n",
    "        \n",
    "        search_query = {\n",
    "            \"size\": 10,\n",
    "            \"query\": {\n",
    "                \"match\": {\n",
    "                    \"processed_text\": query\n",
    "                }\n",
    "            }\n",
    "        }\n",
    "\n",
    "        # Realiza a busca\n",
    "        response = es.search(index=index_name, body=search_query)\n",
    "        \n",
    "        hits_results = []\n",
    "        # Recupera os resultados\n",
    "        for hit in response[\"hits\"][\"hits\"]:\n",
    "            hits_results.append((hit[\"_source\"][\"doc_id\"], hit[\"_score\"]))\n",
    "        lexical_results[query_id] = hits_results\n",
    "        \n",
    "    return lexical_results"
   ]
  },
  {
   "cell_type": "markdown",
   "metadata": {},
   "source": [
    "#### Busca Semântica"
   ]
  },
  {
   "cell_type": "code",
   "execution_count": 78,
   "metadata": {},
   "outputs": [],
   "source": [
    "# Realiza busca semântica (densa) com KNN exato\n",
    "def semantic_search(queries: dict[str, str]):\n",
    "    semantic_results = {}\n",
    "    \n",
    "    for query_id, query in queries.items():\n",
    "        # Aplica todos os pré-processamentos aos dados\n",
    "        for preprocessing_step in preprocessing_steps:\n",
    "            query = preprocessing_step(query)\n",
    "            \n",
    "        query_vector = model.encode(query).tolist()\n",
    "        \n",
    "        \n",
    "        search_query = {\n",
    "            \"size\": 10,\n",
    "            \"query\": {\n",
    "                \"script_score\": {\n",
    "                    \"query\": {\"match_all\": {}},\n",
    "                    \"script\": {\n",
    "                        \"source\": \"cosineSimilarity(params.query_vector, 'embeddings') + 1.0\",\n",
    "                        \"params\": {\"query_vector\": query_vector}\n",
    "                    }\n",
    "                }\n",
    "            }\n",
    "        }\n",
    "\n",
    "        # Realiza a busca\n",
    "        response = es.search(index=index_name, body=search_query)\n",
    "        \n",
    "        hits_results = []\n",
    "        # Recupera top 10 resultados\n",
    "        for hit in response[\"hits\"][\"hits\"]:\n",
    "            hits_results.append((hit[\"_source\"][\"doc_id\"], hit[\"_score\"]))\n",
    "            \n",
    "        semantic_results[query_id] = hits_results\n",
    "\n",
    "    return semantic_results"
   ]
  },
  {
   "cell_type": "markdown",
   "metadata": {},
   "source": [
    "#### Busca Híbrida"
   ]
  },
  {
   "cell_type": "code",
   "execution_count": 79,
   "metadata": {},
   "outputs": [],
   "source": [
    "# Busca híbrida ou RRF. Implemente sua solução aqui. Você pode realizar as duas buscas anteriores (léxica e semântica) como base para formar a busca híbrida.\n",
    "def hybrid_search(queries: dict[str, str]):\n",
    "    lexical_results = lexical_search(queries)\n",
    "    restricted_semantic_results = {}\n",
    "\n",
    "    for query_id, query in queries.items():\n",
    "        # Aplica pré-processamentos\n",
    "        for preprocessing_step in preprocessing_steps:\n",
    "            query = preprocessing_step(query)\n",
    "        \n",
    "        # Codifica query em vetor denso\n",
    "        query_vector = model.encode(query).tolist()\n",
    "\n",
    "        # Obtém os doc_ids da busca léxica\n",
    "        lexical_doc_ids = [doc_id for doc_id, _ in lexical_results.get(query_id, [])]\n",
    "        \n",
    "        if not lexical_doc_ids:\n",
    "            restricted_semantic_results[query_id] = []\n",
    "            continue\n",
    "\n",
    "        # Monta query semântica restrita aos doc_ids\n",
    "        search_query = {\n",
    "            \"size\": 10,\n",
    "            \"query\": {\n",
    "                \"script_score\": {\n",
    "                    \"query\": {\n",
    "                        \"terms\": {\n",
    "                            \"doc_id\": lexical_doc_ids\n",
    "                        }\n",
    "                    },\n",
    "                    \"script\": {\n",
    "                        \"source\": \"cosineSimilarity(params.query_vector, 'embeddings') + 1.0\",\n",
    "                        \"params\": {\"query_vector\": query_vector}\n",
    "                    }\n",
    "                }\n",
    "            }\n",
    "        }\n",
    "\n",
    "        response = es.search(index=index_name, body=search_query)\n",
    "        \n",
    "        hits_results = []\n",
    "        for hit in response[\"hits\"][\"hits\"]:\n",
    "            hits_results.append((hit[\"_source\"][\"doc_id\"], hit[\"_score\"]))\n",
    "        \n",
    "        restricted_semantic_results[query_id] = hits_results\n",
    "\n",
    "    return restricted_semantic_results"
   ]
  },
  {
   "cell_type": "markdown",
   "metadata": {},
   "source": [
    "#### Busca Criativa"
   ]
  },
  {
   "cell_type": "code",
   "execution_count": 93,
   "metadata": {},
   "outputs": [],
   "source": [
    "# Implemente sua própria estratégia de busca, podendo ela ser esparsa, densa ou híbrida. Implemente algo como \"more_like_this\", \"BM35\", \"fuzzy\" etc.\n",
    "def creative_search(queries: dict[str, str]):\n",
    "    ## TODO: Implementar busca híbrida\n",
    "    pass"
   ]
  },
  {
   "cell_type": "markdown",
   "metadata": {},
   "source": [
    "#### Execução das buscas"
   ]
  },
  {
   "cell_type": "code",
   "execution_count": 80,
   "metadata": {},
   "outputs": [],
   "source": [
    "search_functions = [\n",
    "    (\"lexical\", lexical_search),\n",
    "    (\"semantic\", semantic_search),\n",
    "    (\"hybrid\", hybrid_search),\n",
    "    #(\"creative\", creative_search)\n",
    "]\n",
    "\n",
    "def run_all_searches(queries: dict[str, str]):\n",
    "    all_search_results = {}\n",
    "    for search_name, search_function in search_functions:\n",
    "        results = search_function(queries)\n",
    "        all_search_results[search_name] = results\n",
    "    return all_search_results"
   ]
  },
  {
   "cell_type": "markdown",
   "metadata": {},
   "source": [
    "#### Analise os resultados da busca e aprimore a busca!"
   ]
  },
  {
   "cell_type": "code",
   "execution_count": 81,
   "metadata": {},
   "outputs": [
    {
     "data": {
      "text/html": [
       "<div>\n",
       "<style scoped>\n",
       "    .dataframe tbody tr th:only-of-type {\n",
       "        vertical-align: middle;\n",
       "    }\n",
       "\n",
       "    .dataframe tbody tr th {\n",
       "        vertical-align: top;\n",
       "    }\n",
       "\n",
       "    .dataframe thead th {\n",
       "        text-align: right;\n",
       "    }\n",
       "</style>\n",
       "<table border=\"1\" class=\"dataframe\">\n",
       "  <thead>\n",
       "    <tr style=\"text-align: right;\">\n",
       "      <th></th>\n",
       "      <th>lexical</th>\n",
       "      <th>semantic</th>\n",
       "      <th>hybrid</th>\n",
       "    </tr>\n",
       "  </thead>\n",
       "  <tbody>\n",
       "    <tr>\n",
       "      <th>QF1</th>\n",
       "      <td>[(1920, 20.649078), (447, 18.345564), (623, 15.7814865), (1660, 15.456156), (3479, 14.8354225), (1991, 14.763208), (1766, 14.344), (88, 14.1229), (3825, 13.533148), (1491, 13.369331)]</td>\n",
       "      <td>[(1491, 1.6058515), (1920, 1.5239503), (82, 1.5190855), (1660, 1.5080773), (1606, 1.500781), (1991, 1.5001796), (1087, 1.4997236), (2255, 1.4974422), (307, 1.4880704), (2130, 1.4849763)]</td>\n",
       "      <td>[(1491, 1.6058515), (1920, 1.5239503), (1660, 1.5080773), (1991, 1.5001796), (3825, 1.4232183), (1766, 1.4219997), (447, 1.3710871), (88, 1.3564069), (623, 1.328193), (3479, 1.2386197)]</td>\n",
       "    </tr>\n",
       "    <tr>\n",
       "      <th>QF2</th>\n",
       "      <td>[(4618, 12.920881), (4664, 11.085611), (4032, 11.06958), (2972, 10.93523), (1228, 10.587513), (3761, 10.5724745), (1109, 10.487575), (3249, 10.461214), (3710, 10.44688), (1183, 10.409498)]</td>\n",
       "      <td>[(3710, 1.8208842), (3461, 1.8018768), (2972, 1.7968816), (3409, 1.793333), (3692, 1.7650025), (3249, 1.7608975), (2995, 1.7585142), (3092, 1.7525693), (3208, 1.7492588), (2861, 1.7490219)]</td>\n",
       "      <td>[(3710, 1.8208842), (2972, 1.7968816), (3249, 1.7608975), (3761, 1.7402564), (1228, 1.673691), (1183, 1.6664984), (4664, 1.5581268), (4032, 1.5524788), (1109, 1.5515052), (4618, 1.3420492)]</td>\n",
       "    </tr>\n",
       "    <tr>\n",
       "      <th>QP1</th>\n",
       "      <td>[(844, 13.145399), (4168, 10.680053), (122, 10.611412), (306, 10.090786), (138, 9.955878), (150, 9.319978), (1450, 9.102754), (3818, 9.089081), (2670, 9.072411), (1553, 8.929828)]</td>\n",
       "      <td>[(679, 1.6366354), (2700, 1.6223811), (1898, 1.6191282), (1118, 1.6147891), (1547, 1.6095119), (1688, 1.6089125), (1070, 1.6080425), (2548, 1.6066722), (1817, 1.6003315), (462, 1.6002744)]</td>\n",
       "      <td>[(1553, 1.5401314), (138, 1.5322112), (306, 1.499848), (1450, 1.4586122), (150, 1.4332399), (3818, 1.403076), (4168, 1.3438623), (844, 1.3353448), (2670, 1.3183848), (122, 1.3100771)]</td>\n",
       "    </tr>\n",
       "    <tr>\n",
       "      <th>QP2</th>\n",
       "      <td>[(1219, 15.603304), (295, 15.412268), (2856, 15.29161), (1357, 15.187067), (2632, 14.911072), (1016, 14.576488), (1400, 14.485383), (821, 13.825228), (1584, 13.726249), (2903, 13.550341)]</td>\n",
       "      <td>[(2970, 1.680339), (1604, 1.6665958), (3850, 1.6664263), (2287, 1.6659178), (1162, 1.665857), (1016, 1.6655575), (2023, 1.6639389), (2158, 1.6614459), (2004, 1.6585871), (4007, 1.6569201)]</td>\n",
       "      <td>[(1016, 1.6655575), (295, 1.6498008), (1219, 1.6413367), (821, 1.5782073), (2903, 1.4499571), (2632, 1.400956), (1400, 1.395207), (2856, 1.3552467), (1584, 1.2498955), (1357, 1.195461)]</td>\n",
       "    </tr>\n",
       "  </tbody>\n",
       "</table>\n",
       "</div>"
      ],
      "text/plain": [
       "                                                                                                                                                                                          lexical  \\\n",
       "QF1       [(1920, 20.649078), (447, 18.345564), (623, 15.7814865), (1660, 15.456156), (3479, 14.8354225), (1991, 14.763208), (1766, 14.344), (88, 14.1229), (3825, 13.533148), (1491, 13.369331)]   \n",
       "QF2  [(4618, 12.920881), (4664, 11.085611), (4032, 11.06958), (2972, 10.93523), (1228, 10.587513), (3761, 10.5724745), (1109, 10.487575), (3249, 10.461214), (3710, 10.44688), (1183, 10.409498)]   \n",
       "QP1           [(844, 13.145399), (4168, 10.680053), (122, 10.611412), (306, 10.090786), (138, 9.955878), (150, 9.319978), (1450, 9.102754), (3818, 9.089081), (2670, 9.072411), (1553, 8.929828)]   \n",
       "QP2   [(1219, 15.603304), (295, 15.412268), (2856, 15.29161), (1357, 15.187067), (2632, 14.911072), (1016, 14.576488), (1400, 14.485383), (821, 13.825228), (1584, 13.726249), (2903, 13.550341)]   \n",
       "\n",
       "                                                                                                                                                                                          semantic  \\\n",
       "QF1     [(1491, 1.6058515), (1920, 1.5239503), (82, 1.5190855), (1660, 1.5080773), (1606, 1.500781), (1991, 1.5001796), (1087, 1.4997236), (2255, 1.4974422), (307, 1.4880704), (2130, 1.4849763)]   \n",
       "QF2  [(3710, 1.8208842), (3461, 1.8018768), (2972, 1.7968816), (3409, 1.793333), (3692, 1.7650025), (3249, 1.7608975), (2995, 1.7585142), (3092, 1.7525693), (3208, 1.7492588), (2861, 1.7490219)]   \n",
       "QP1   [(679, 1.6366354), (2700, 1.6223811), (1898, 1.6191282), (1118, 1.6147891), (1547, 1.6095119), (1688, 1.6089125), (1070, 1.6080425), (2548, 1.6066722), (1817, 1.6003315), (462, 1.6002744)]   \n",
       "QP2   [(2970, 1.680339), (1604, 1.6665958), (3850, 1.6664263), (2287, 1.6659178), (1162, 1.665857), (1016, 1.6655575), (2023, 1.6639389), (2158, 1.6614459), (2004, 1.6585871), (4007, 1.6569201)]   \n",
       "\n",
       "                                                                                                                                                                                            hybrid  \n",
       "QF1      [(1491, 1.6058515), (1920, 1.5239503), (1660, 1.5080773), (1991, 1.5001796), (3825, 1.4232183), (1766, 1.4219997), (447, 1.3710871), (88, 1.3564069), (623, 1.328193), (3479, 1.2386197)]  \n",
       "QF2  [(3710, 1.8208842), (2972, 1.7968816), (3249, 1.7608975), (3761, 1.7402564), (1228, 1.673691), (1183, 1.6664984), (4664, 1.5581268), (4032, 1.5524788), (1109, 1.5515052), (4618, 1.3420492)]  \n",
       "QP1        [(1553, 1.5401314), (138, 1.5322112), (306, 1.499848), (1450, 1.4586122), (150, 1.4332399), (3818, 1.403076), (4168, 1.3438623), (844, 1.3353448), (2670, 1.3183848), (122, 1.3100771)]  \n",
       "QP2      [(1016, 1.6655575), (295, 1.6498008), (1219, 1.6413367), (821, 1.5782073), (2903, 1.4499571), (2632, 1.400956), (1400, 1.395207), (2856, 1.3552467), (1584, 1.2498955), (1357, 1.195461)]  "
      ]
     },
     "execution_count": 81,
     "metadata": {},
     "output_type": "execute_result"
    }
   ],
   "source": [
    "all_search_results = run_all_searches(queries)\n",
    "search_results_df = pd.DataFrame(all_search_results)\n",
    "search_results_df"
   ]
  },
  {
   "cell_type": "code",
   "execution_count": 82,
   "metadata": {},
   "outputs": [
    {
     "name": "stdout",
     "output_type": "stream",
     "text": [
      "Resultados das buscas salvos em 'data/search_results.csv'.\n",
      "Documentos de interesse salvos em 'data/documents.csv'.\n"
     ]
    }
   ],
   "source": [
    "def generate_exploded_df(search_results_df):\n",
    "    exploded_search_results_df = pd.concat([search_results_df[col].explode() for col in search_results_df.columns], axis=1)\n",
    "    exploded_search_results_df = exploded_search_results_df.apply(lambda l: [doc_id for doc_id, _ in l])\n",
    "    return exploded_search_results_df\n",
    "\n",
    "def generate_found_docs_text_df(exploded_search_results_df, all_docs_df):\n",
    "    # Recupera os ids únicos dos documentos\n",
    "    documents_ids = set(exploded_search_results_df.to_numpy().flatten().tolist())\n",
    "\n",
    "    # Salva os textos e os ids dos documetnos que foram encontrados ems usas buscas\n",
    "    documents_df = all_docs_df[all_docs_df[\"doc_id\"].isin(documents_ids)][[\"Texto processado\", \"doc_id\", \"Texto completo\"]]\n",
    "    return documents_df\n",
    "\n",
    "exploded_df = generate_exploded_df(search_results_df)\n",
    "found_docs_text_df = generate_found_docs_text_df(exploded_df, all_docs_df=df)\n",
    "\n",
    "def save_results_to_file(exploded_df: pd.DataFrame,\n",
    "                         found_docs_text_df: pd.DataFrame,\n",
    "                         exploded_df_save_filepath: str = \"data/search_results.csv\",\n",
    "                         found_docs_text_save_filepath: str = \"data/documents.csv\"):\n",
    "    exploded_df.to_csv(exploded_df_save_filepath)\n",
    "    found_docs_text_df.to_csv(found_docs_text_save_filepath)\n",
    "    print(\"Resultados das buscas salvos em 'data/search_results.csv'.\")\n",
    "    print(\"Documentos de interesse salvos em 'data/documents.csv'.\")\n",
    "    \n",
    "save_results_to_file(exploded_df, found_docs_text_df)"
   ]
  },
  {
   "cell_type": "code",
   "execution_count": 84,
   "metadata": {},
   "outputs": [
    {
     "name": "stdout",
     "output_type": "stream",
     "text": [
      "Index(['Título', 'Texto', 'Data de Publicação', 'Embeddings', 'doc_id',\n",
      "       'Texto completo', 'Texto processado'],\n",
      "      dtype='object')\n"
     ]
    }
   ],
   "source": [
    "pd.set_option('expand_frame_repr', True)\n",
    "pd.set_option('display.max_colwidth', 1000)\n",
    "# print(exploded_df.head())\n",
    "print(df.columns)\n",
    "\n",
    "os.makedirs('output3', exist_ok=True)\n",
    "for query in queries:\n",
    "    os.makedirs(f'output3/{query}', exist_ok=True)\n",
    "    \n",
    "    # Get all rows for this query\n",
    "    query_rows = exploded_df.loc[query]\n",
    "    \n",
    "    # Process each ranking method (column)\n",
    "    for col in ['lexical', 'semantic', 'hybrid']:  # or use exploded_df.columns\n",
    "        rel_df = {'DocID': [], 'Título': [], 'Texto completo': []}\n",
    "        \n",
    "        # Get all doc IDs for this query+column combination\n",
    "        doc_ids = query_rows[col].tolist()\n",
    "        \n",
    "        for doc_id in doc_ids:\n",
    "            # Find matching document\n",
    "            doc = df[df['doc_id'] == doc_id]\n",
    "            if not doc.empty:\n",
    "                rel_df['DocID'].append(doc_id)\n",
    "                rel_df['Título'].append(doc['Título'].values[0])\n",
    "                rel_df['Texto completo'].append(doc['Texto completo'].values[0])\n",
    "        \n",
    "        # Save to CSV\n",
    "        pd.DataFrame(rel_df).to_csv(f'output3/{query}/{col}.csv', index=False)"
   ]
  },
  {
   "cell_type": "markdown",
   "metadata": {},
   "source": [
    "#### Anote as relevâncias na sua planilha!"
   ]
  },
  {
   "cell_type": "markdown",
   "metadata": {},
   "source": [
    "### Tarefa 3: Reexecutar a busca para as novas queries e rotular os dados"
   ]
  },
  {
   "cell_type": "code",
   "execution_count": null,
   "metadata": {},
   "outputs": [],
   "source": [
    "# Preencha aqui com as queries adicionais do seu grupo\n",
    "QA1 = XXXXXXXXX\n",
    "QA2 = XXXXXXXXX\n",
    "QA3 = XXXXXXXXX\n",
    "\n",
    "queries = OrderedDict()\n",
    "queries[\"QF1\"] = QF1\n",
    "queries[\"QF2\"] = QF2\n",
    "queries[\"QA1\"] = QA1\n",
    "queries[\"QA2\"] = QA2\n",
    "queries[\"QA3\"] = QA3\n",
    "\n",
    "\n",
    "all_search_results = run_all_searches(queries)\n",
    "search_results_df = pd.DataFrame(all_search_results)\n",
    "search_results_df"
   ]
  },
  {
   "cell_type": "code",
   "execution_count": null,
   "metadata": {},
   "outputs": [],
   "source": [
    "exploded_df = generate_exploded_df(search_results_df)\n",
    "found_docs_text_df = generate_found_docs_text_df(exploded_df, all_docs_df=df)\n",
    "\n",
    "def save_results_to_file(exploded_df: pd.DataFrame,\n",
    "                         found_docs_text_df: pd.DataFrame,\n",
    "                         exploded_df_save_filepath: str = \"data/search_results.csv\",\n",
    "                         found_docs_text_save_filepath: str = \"data/documents.csv\"):\n",
    "    exploded_df.to_csv(exploded_df_save_filepath)\n",
    "    found_docs_text_df.to_csv(found_docs_text_save_filepath)\n",
    "    print(\"Resultados das buscas salvos em 'data/search_results.csv'.\")\n",
    "    print(\"Documentos de interesse salvos em 'data/documents.csv'.\")\n",
    "    \n",
    "save_results_to_file(exploded_df, found_docs_text_df)\n",
    "exploded_df"
   ]
  },
  {
   "cell_type": "markdown",
   "metadata": {},
   "source": [
    "#### Anote os resultados na sua planilha!"
   ]
  },
  {
   "cell_type": "markdown",
   "metadata": {},
   "source": [
    "#### A competição utilizará o NDCG médio por query para computar seu desempenho."
   ]
  }
 ],
 "metadata": {
  "kernelspec": {
   "display_name": ".venv",
   "language": "python",
   "name": "python3"
  },
  "language_info": {
   "codemirror_mode": {
    "name": "ipython",
    "version": 3
   },
   "file_extension": ".py",
   "mimetype": "text/x-python",
   "name": "python",
   "nbconvert_exporter": "python",
   "pygments_lexer": "ipython3",
   "version": "3.12.9"
  }
 },
 "nbformat": 4,
 "nbformat_minor": 4
}
